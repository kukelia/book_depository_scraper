{
 "cells": [
  {
   "cell_type": "code",
   "execution_count": 1,
   "id": "88d41cc2-6777-4000-a68d-5b70bac8fe7a",
   "metadata": {},
   "outputs": [
    {
     "name": "stderr",
     "output_type": "stream",
     "text": [
      "C:\\Users\\zubik\\AppData\\Local\\Temp\\ipykernel_12184\\506167796.py:11: DeprecationWarning: executable_path has been deprecated, please pass in a Service object\n",
      "  driver = webdriver.Chrome(PATH, options=options)\n"
     ]
    }
   ],
   "source": [
    "from selenium import webdriver\n",
    "from selenium.webdriver.common.by import By\n",
    "from selenium.common.exceptions import NoSuchElementException\n",
    "from datetime import datetime\n",
    "import pandas as pd\n",
    "\n",
    "\n",
    "PATH = \"C:\\Program Files (x86)\\chromedriver.exe\"\n",
    "options = webdriver.ChromeOptions() \n",
    "options.add_experimental_option(\"excludeSwitches\", [\"enable-logging\"])\n",
    "driver = webdriver.Chrome(PATH, options=options)\n",
    "\n",
    "URLS={'quartet':'https://www.bookdepository.com/es/QUARTET-INTERMEDIATE-JAPANESE-ACROSS-FOUR-LANGUAGE-SKILLS-TEXTBOOK-Tadashi-Sakamoto/9784789016957?ref=grid-view&qid=1650402192213&sr=1-1',\n",
    "           \"tobira\": 'https://www.bookdepository.com/Tobira-Gateway-Advanced-Japanese-Learning-Through-Content-Multimedia-Mayumi-Mayumi/9784874244470',\n",
    "           \"tobira bunpo\":\"https://www.bookdepository.com/Tobira-Gateway-Advd-Jap/9784874245705\",\n",
    "           'integrated approach':'https://www.bookdepository.com/Integrated-Approach-Intermediate-Japanese-Akira-Miura/9784789013079',\n",
    "           'jujutsu manga': 'https://www.bookdepository.com/%E5%91%AA%E8%A1%93%E5%BB%BB%E6%88%A6%E5%85%AC%E5%BC%8F%E3%83%95%E3%82%A1%E3%83%B3%E3%83%96%E3%83%83%E3%82%AF-%E8%8A%A5%E8%A6%8B-%E4%B8%8B%E3%80%85/9784088826363',\n",
    "           'jujutsu anime': 'https://www.bookdepository.com/%E5%91%AA%E8%A1%93%E5%BB%BB%E6%88%A6%E5%85%AC%E5%BC%8F%E3%82%B9%E3%82%BF%E3%83%BC%E3%83%88%E3%82%AC%E3%82%A4%E3%83%89-%E8%8A%A5%E8%A6%8B-%E4%B8%8B%E3%80%85/9784087925586'}\n",
    "\n",
    "driver.implicitly_wait(2)"
   ]
  },
  {
   "cell_type": "code",
   "execution_count": 2,
   "id": "30556f35-bbf9-4ab9-9357-f24d005abc79",
   "metadata": {},
   "outputs": [
    {
     "name": "stderr",
     "output_type": "stream",
     "text": [
      "C:\\Users\\zubik\\AppData\\Local\\Temp\\ipykernel_12184\\1043205844.py:1: FutureWarning: The default dtype for empty Series will be 'object' instead of 'float64' in a future version. Specify a dtype explicitly to silence this warning.\n",
      "  series = pd.Series()\n"
     ]
    }
   ],
   "source": [
    "series = pd.Series()\n",
    "series.name = str(datetime.now())[:-10]"
   ]
  },
  {
   "cell_type": "code",
   "execution_count": 3,
   "id": "a7928fd9-09fc-48c1-82b7-ca20a17f0a88",
   "metadata": {},
   "outputs": [],
   "source": [
    "data = pd.read_excel('book_prices_data.xlsx',index_col=0)\n",
    "\n",
    "for title in URLS:\n",
    "    \n",
    "    driver.get(URLS[title])\n",
    "    \n",
    "    try:\n",
    "        price = driver.find_element(by=By.CLASS_NAME, value=\"list-price\")\n",
    "    except NoSuchElementException:\n",
    "        price = 0\n",
    "\n",
    "    try:\n",
    "        sale_price = driver.find_element(by=By.CLASS_NAME, value=\"sale-price\")\n",
    "    except NoSuchElementException:\n",
    "        sale_price = 0\n",
    "        \n",
    "    if sale_price != 0:\n",
    "        series[title] = int(sale_price.text[4:-3].replace('.',''))\n",
    "    elif price != 0:\n",
    "        series[title] = int(price.text[:-3].replace('.','').replace('ARS$', ''))\n",
    "    else: #unavailable\n",
    "        series[title] = 0\n"
   ]
  },
  {
   "cell_type": "code",
   "execution_count": 6,
   "id": "049d38a9-4af9-4a02-ac47-0cad78a1e010",
   "metadata": {},
   "outputs": [
    {
     "name": "stderr",
     "output_type": "stream",
     "text": [
      "C:\\Users\\zubik\\AppData\\Local\\Temp\\ipykernel_12184\\235040301.py:1: FutureWarning: The frame.append method is deprecated and will be removed from pandas in a future version. Use pandas.concat instead.\n",
      "  dataf = data.append(series)\n"
     ]
    }
   ],
   "source": [
    "dataf = data.append(series)\n",
    "dataf.to_excel('book_prices_data.xlsx')"
   ]
  }
 ],
 "metadata": {
  "kernelspec": {
   "display_name": "Python 3 (ipykernel)",
   "language": "python",
   "name": "python3"
  },
  "language_info": {
   "codemirror_mode": {
    "name": "ipython",
    "version": 3
   },
   "file_extension": ".py",
   "mimetype": "text/x-python",
   "name": "python",
   "nbconvert_exporter": "python",
   "pygments_lexer": "ipython3",
   "version": "3.10.0"
  }
 },
 "nbformat": 4,
 "nbformat_minor": 5
}
