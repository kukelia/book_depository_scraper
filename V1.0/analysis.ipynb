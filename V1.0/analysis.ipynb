{
 "cells": [
  {
   "cell_type": "code",
   "execution_count": 1,
   "id": "77a55ad1-7d32-41cb-9d53-1e94075966d1",
   "metadata": {},
   "outputs": [],
   "source": [
    "import pandas as pd\n",
    "import matplotlib.pyplot as plt\n",
    "import seaborn as sns\n",
    "from matplotlib.pyplot import figure\n",
    "\n",
    "sns.set()\n",
    "data = pd.read_excel('book_prices_data.xlsx',index_col=0)\n",
    "figure(figsize=(24, 10), dpi=80)\n",
    "plt.plot(data)\n",
    "plt.legend(data.columns)\n",
    "\n",
    "plt.show();"
   ]
  }
 ],
 "metadata": {
  "kernelspec": {
   "display_name": "Python 3.10.0 64-bit",
   "language": "python",
   "name": "python3"
  },
  "language_info": {
   "codemirror_mode": {
    "name": "ipython",
    "version": 3
   },
   "file_extension": ".py",
   "mimetype": "text/x-python",
   "name": "python",
   "nbconvert_exporter": "python",
   "pygments_lexer": "ipython3",
   "version": "3.10.0"
  },
  "vscode": {
   "interpreter": {
    "hash": "7b31c557cd3144f35d9894001275fa99ff40c8ba36b4bc5d3af70030b9d2cbe3"
   }
  }
 },
 "nbformat": 4,
 "nbformat_minor": 5
}
